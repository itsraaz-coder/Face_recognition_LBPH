{
  "nbformat": 4,
  "nbformat_minor": 0,
  "metadata": {
    "colab": {
      "provenance": []
    },
    "kernelspec": {
      "name": "python3",
      "display_name": "Python 3"
    },
    "language_info": {
      "name": "python"
    }
  },
  "cells": [
    {
      "cell_type": "code",
      "source": [
        "from PIL import Image\n",
        "import numpy as np\n",
        "import cv2\n",
        "from google.colab.patches import cv2_imshow\n"
      ],
      "metadata": {
        "id": "U1WUe5Lm7HOL"
      },
      "execution_count": 2,
      "outputs": []
    },
    {
      "cell_type": "code",
      "execution_count": 1,
      "metadata": {
        "id": "kz7JDa-FAwAZ"
      },
      "outputs": [],
      "source": [
        "# import zipfile\n",
        "# path=\"/content/drive/MyDrive/drive-download-20240118T150814Z-001/Datasets/yalefaces.zip\"\n",
        "\n",
        "# zip_object=zipfile.ZipFile(file=path,mode='r')\n",
        "# zip_object.extractall('./')\n",
        "# zip_object.close()"
      ]
    },
    {
      "cell_type": "code",
      "source": [
        "import os\n",
        "Train_images=os.listdir('/content/drive/MyDrive/drive-download-20240118T150814Z-001/Datasets/yalefaces/yalefaces/train')\n",
        "print(Train_images)"
      ],
      "metadata": {
        "colab": {
          "base_uri": "https://localhost:8080/"
        },
        "id": "x7iLAoxBwyTC",
        "outputId": "4f84f3b1-d27f-4cd6-8be1-c3a930904184"
      },
      "execution_count": 3,
      "outputs": [
        {
          "output_type": "stream",
          "name": "stdout",
          "text": [
            "['subject11.noglasses.gif', 'subject13.happy.gif', 'subject06.centerlight.gif', 'subject02.wink.gif', 'subject15.happy.gif', 'subject14.leftlight.gif', 'subject03.wink.gif', 'subject02.glasses.gif', 'subject11.normal.gif', 'subject08.wink.gif', 'subject09.centerlight.gif', 'subject15.wink.gif', 'subject12.noglasses.gif', 'subject09.wink.gif', 'subject14.rightlight.gif', 'subject11.sleepy.gif', 'subject15.noglasses.gif', 'subject14.wink.gif', 'subject05.noglasses.gif', 'subject05.normal.gif', 'subject14.sleepy.gif', 'subject08.surprised.gif', 'subject12.glasses.gif', 'subject01.rightlight.gif', 'subject02.noglasses.gif', 'subject03.sad.gif', 'subject06.rightlight.gif', 'subject08.sleepy.gif', 'subject12.sad.gif', 'subject10.leftlight.gif', 'subject02.sad.gif', 'subject06.noglasses.gif', 'subject07.glasses.gif', 'subject13.rightlight.gif', 'subject02.surprised.gif', 'subject12.surprised.gif', 'subject02.sleepy.gif', 'subject02.rightlight.gif', 'subject11.surprised.gif', 'subject04.glasses.gif', 'subject04.wink.gif', 'subject01.glasses.gif', 'subject14.happy.gif', 'subject07.centerlight.gif', 'subject08.glasses.gif', 'subject03.rightlight.gif', 'subject01.surprised.gif', 'subject08.sad.gif', 'subject09.sleepy.gif', 'subject11.rightlight.gif', 'subject15.surprised.gif', 'subject07.sleepy.gif', 'subject01.sad.gif', 'subject13.leftlight.gif', 'subject12.wink.gif', 'subject05.rightlight.gif', 'subject14.glasses.gif', 'subject06.surprised.gif', 'subject14.centerlight.gif', 'subject09.leftlight.gif', 'subject08.noglasses.gif', 'subject12.happy.gif', 'subject04.rightlight.gif', 'subject13.wink.gif', 'subject08.centerlight.gif', 'subject10.rightlight.gif', 'subject13.normal.gif', 'subject05.wink.gif', 'subject07.normal.gif', 'subject01.noglasses.gif', 'subject11.centerlight.gif', 'subject11.sad.gif', 'subject02.normal.gif', 'subject07.rightlight.gif', 'subject01.sleepy.gif', 'subject03.happy.gif', 'subject05.sad.gif', 'subject09.noglasses.gif', 'subject04.sleepy.gif', 'subject13.centerlight.gif', 'subject15.glasses.gif', 'subject07.sad.gif', 'subject14.surprised.gif', 'subject03.normal.gif', 'subject01.normal.gif', 'subject03.surprised.gif', 'subject05.happy.gif', 'subject10.normal.gif', 'subject09.glasses.gif', 'subject06.glasses.gif', 'subject02.happy.gif', 'subject01.wink.gif', 'subject12.leftlight.gif', 'subject04.centerlight.gif', 'subject04.happy.gif', 'subject08.leftlight.gif', 'subject13.surprised.gif', 'subject10.sleepy.gif', 'subject05.leftlight.gif', 'subject11.leftlight.gif', 'subject13.glasses.gif', 'subject04.noglasses.gif', 'subject12.centerlight.gif', 'subject15.normal.gif', 'subject04.normal.gif', 'subject05.centerlight.gif', 'subject10.surprised.gif', 'subject09.normal.gif', 'subject09.surprised.gif', 'subject04.sad.gif', 'subject06.sleepy.gif', 'subject01.leftlight.gif', 'subject06.wink.gif', 'subject13.noglasses.gif', 'subject08.happy.gif', 'subject07.surprised.gif', 'subject07.wink.gif', 'subject15.sleepy.gif', 'subject03.sleepy.gif', 'subject10.glasses.gif', 'subject10.happy.gif', 'subject07.noglasses.gif', 'subject15.leftlight.gif', 'subject14.noglasses.gif', 'subject03.noglasses.gif', 'subject05.glasses.gif', 'subject09.happy.gif', 'subject11.wink.gif', 'subject10.wink.gif', 'subject03.centerlight.gif', 'subject12.sleepy.gif', 'subject06.sad.gif', 'subject06.normal.gif', 'subject10.noglasses.gif', 'subject15.centerlight.gif']\n"
          ]
        }
      ]
    },
    {
      "cell_type": "code",
      "source": [
        "\n",
        "\n",
        "def get_image_data():\n",
        "    # Specify the directory path\n",
        "    directory_path = '/content/drive/MyDrive/drive-download-20240118T150814Z-001/Datasets/yalefaces/yalefaces/train'\n",
        "\n",
        "    # Create a list of file paths for images in the directory\n",
        "    paths = [os.path.join(directory_path, f) for f in os.listdir(directory_path)]\n",
        "\n",
        "    faces=[]\n",
        "    ids=[]\n",
        "\n",
        "    for path in paths:\n",
        "      # print(path)\n",
        "      image=Image.open(path).convert('L')\n",
        "      image_np=np.array(image, 'uint8')\n",
        "      # print(type(image_np))\n",
        "\n",
        "      id=int(os.path.split(path)[1].split('.')[0].replace('subject',''))\n",
        "      # print(id)\n",
        "\n",
        "      ids.append(id)\n",
        "      faces.append(image_np)\n",
        "\n",
        "    return np.array(ids), faces\n",
        "\n",
        "\n",
        "\n",
        "\n"
      ],
      "metadata": {
        "id": "Ju_FXfh4ybjP"
      },
      "execution_count": 6,
      "outputs": []
    },
    {
      "cell_type": "code",
      "source": [
        "ids, faces= get_image_data()"
      ],
      "metadata": {
        "id": "S9djysuEyCEy"
      },
      "execution_count": 8,
      "outputs": []
    },
    {
      "cell_type": "code",
      "source": [
        "ids\n"
      ],
      "metadata": {
        "colab": {
          "base_uri": "https://localhost:8080/"
        },
        "id": "4tv7nVcKAYeC",
        "outputId": "3742e23e-dcd2-4622-f842-34fafbf4a868"
      },
      "execution_count": 9,
      "outputs": [
        {
          "output_type": "execute_result",
          "data": {
            "text/plain": [
              "array([11, 13,  6,  2, 15, 14,  3,  2, 11,  8,  9, 15, 12,  9, 14, 11, 15,\n",
              "       14,  5,  5, 14,  8, 12,  1,  2,  3,  6,  8, 12, 10,  2,  6,  7, 13,\n",
              "        2, 12,  2,  2, 11,  4,  4,  1, 14,  7,  8,  3,  1,  8,  9, 11, 15,\n",
              "        7,  1, 13, 12,  5, 14,  6, 14,  9,  8, 12,  4, 13,  8, 10, 13,  5,\n",
              "        7,  1, 11, 11,  2,  7,  1,  3,  5,  9,  4, 13, 15,  7, 14,  3,  1,\n",
              "        3,  5, 10,  9,  6,  2,  1, 12,  4,  4,  8, 13, 10,  5, 11, 13,  4,\n",
              "       12, 15,  4,  5, 10,  9,  9,  4,  6,  1,  6, 13,  8,  7,  7, 15,  3,\n",
              "       10, 10,  7, 15, 14,  3,  5,  9, 11, 10,  3, 12,  6,  6, 10, 15])"
            ]
          },
          "metadata": {},
          "execution_count": 9
        }
      ]
    },
    {
      "cell_type": "code",
      "source": [
        "faces[0]"
      ],
      "metadata": {
        "colab": {
          "base_uri": "https://localhost:8080/"
        },
        "id": "It3vmaEmAavK",
        "outputId": "2d1beab4-3c17-442b-a845-a411775bea29"
      },
      "execution_count": 10,
      "outputs": [
        {
          "output_type": "execute_result",
          "data": {
            "text/plain": [
              "array([[130, 130, 130, ..., 255, 255, 255],\n",
              "       [255, 255, 255, ..., 255, 255, 255],\n",
              "       [255, 255, 255, ..., 255, 255, 255],\n",
              "       ...,\n",
              "       [255, 255, 255, ..., 129, 100,  79],\n",
              "       [248, 246, 245, ..., 128, 101,  73],\n",
              "       [ 68,  68,  68, ...,  68,  68,  68]], dtype=uint8)"
            ]
          },
          "metadata": {},
          "execution_count": 10
        }
      ]
    },
    {
      "cell_type": "code",
      "source": [
        "lbphclassifier=cv2.face.LBPHFaceRecognizer_create()\n",
        "lbphclassifier.train(faces, ids)\n",
        "lbphclassifier.write('lbph_classifier.yml')"
      ],
      "metadata": {
        "id": "AVMlI6NGCx6b"
      },
      "execution_count": 11,
      "outputs": []
    },
    {
      "cell_type": "code",
      "source": [
        "lbph_face_classifier=cv2.face.LBPHFaceRecognizer_create()\n",
        "lbph_face_classifier.read('/content/lbph_classifier.yml')"
      ],
      "metadata": {
        "id": "ztYbmkApNELV"
      },
      "execution_count": 12,
      "outputs": []
    },
    {
      "cell_type": "code",
      "source": [
        "test_image='/content/drive/MyDrive/drive-download-20240118T150814Z-001/Datasets/yalefaces/yalefaces/test/subject05.surprised.gif'"
      ],
      "metadata": {
        "id": "kLW7aAwOOCso"
      },
      "execution_count": 13,
      "outputs": []
    },
    {
      "cell_type": "code",
      "source": [
        "image=Image.open(test_image).convert('L')\n",
        "image_np=np.array(image, 'uint8')\n",
        "image_np"
      ],
      "metadata": {
        "colab": {
          "base_uri": "https://localhost:8080/"
        },
        "id": "XmrMOHKVOUm6",
        "outputId": "56dbf3c3-0d1e-40a8-a8e0-09db11bc201c"
      },
      "execution_count": 14,
      "outputs": [
        {
          "output_type": "execute_result",
          "data": {
            "text/plain": [
              "array([[117, 129, 130, ..., 255, 255, 255],\n",
              "       [251, 255, 255, ..., 255, 255, 255],\n",
              "       [255, 255, 255, ..., 255, 255, 255],\n",
              "       ...,\n",
              "       [255, 255, 255, ...,  90,  87,  90],\n",
              "       [255, 255, 255, ..., 100,  96, 101],\n",
              "       [ 68,  68,  68, ...,  68,  68,  68]], dtype=uint8)"
            ]
          },
          "metadata": {},
          "execution_count": 14
        }
      ]
    },
    {
      "cell_type": "code",
      "source": [
        "prediction=lbph_face_classifier.predict(image_np)\n",
        "prediction"
      ],
      "metadata": {
        "colab": {
          "base_uri": "https://localhost:8080/"
        },
        "id": "1X5KKSc2PapZ",
        "outputId": "fe791744-4f15-41b2-c7ec-eb088c42c625"
      },
      "execution_count": 15,
      "outputs": [
        {
          "output_type": "execute_result",
          "data": {
            "text/plain": [
              "(5, 9.404416693842116)"
            ]
          },
          "metadata": {},
          "execution_count": 15
        }
      ]
    },
    {
      "cell_type": "code",
      "source": [
        "expected_output=int(os.path.split(test_image)[1].split('.')[0].replace('subject', ''))\n",
        "expected_output"
      ],
      "metadata": {
        "colab": {
          "base_uri": "https://localhost:8080/"
        },
        "id": "Izy_yUBwPus9",
        "outputId": "e1d5670b-ba56-445f-f105-4dca88aa74c5"
      },
      "execution_count": 16,
      "outputs": [
        {
          "output_type": "execute_result",
          "data": {
            "text/plain": [
              "5"
            ]
          },
          "metadata": {},
          "execution_count": 16
        }
      ]
    },
    {
      "cell_type": "code",
      "source": [
        "cv2.putText(image_np, 'pre:' +str(prediction[0]), (10,30), cv2.FONT_HERSHEY_COMPLEX_SMALL,1,(0,255,0))\n",
        "cv2.putText(image_np, 'exp:' +str(expected_output), (10,50), cv2.FONT_HERSHEY_COMPLEX_SMALL,1,(0,255,0))\n",
        "cv2_imshow(image_np)"
      ],
      "metadata": {
        "colab": {
          "base_uri": "https://localhost:8080/",
          "height": 260
        },
        "id": "J_t93W7kRhZr",
        "outputId": "c26fedec-9f9a-4a3a-9f0a-09b69caeccdf"
      },
      "execution_count": 19,
      "outputs": [
        {
          "output_type": "display_data",
          "data": {
            "text/plain": [
              "<PIL.Image.Image image mode=L size=320x243>"
            ],
            "image/png": "[encoded data removed]"
          },
          "metadata": {}
        }
      ]
    },
    {
      "cell_type": "code",
      "source": [
        "paths=[os.path.join('/content/drive/MyDrive/drive-download-20240118T150814Z-001/Datasets/yalefaces/yalefaces/train', f) for f in os.listdir('/content/drive/MyDrive/drive-download-20240118T150814Z-001/Datasets/yalefaces/yalefaces/train')]\n",
        "\n",
        "predictions=[]\n",
        "expected_outputs=[]\n",
        "for path in paths:\n",
        "  image=Image.open(path).convert('L')\n",
        "  image_np=np.array(image, 'uint8')\n",
        "  prediction, _=lbph_face_classifier.predict(image_np)\n",
        "  expected_output=int(os.path.split(path)[1].split('.')[0].replace('subject', ''))\n",
        "\n",
        "  predictions.append(prediction)\n",
        "  expected_outputs.append(expected_output)\n",
        "print(predictions)\n",
        "print(expected_outputs)"
      ],
      "metadata": {
        "colab": {
          "base_uri": "https://localhost:8080/"
        },
        "id": "fhIIBhsKy9w2",
        "outputId": "7cd16b48-b889-4650-85b7-c9574892a165"
      },
      "execution_count": 25,
      "outputs": [
        {
          "output_type": "stream",
          "name": "stdout",
          "text": [
            "[11, 13, 6, 2, 15, 14, 3, 2, 11, 8, 9, 15, 12, 9, 14, 11, 15, 14, 5, 5, 14, 8, 12, 1, 2, 3, 6, 8, 12, 10, 2, 6, 7, 13, 2, 12, 2, 2, 11, 4, 4, 1, 14, 7, 8, 3, 1, 8, 9, 11, 15, 7, 1, 13, 12, 5, 14, 6, 14, 9, 8, 12, 4, 13, 8, 10, 13, 5, 7, 1, 11, 11, 2, 7, 1, 3, 5, 9, 4, 13, 15, 7, 14, 3, 1, 3, 5, 10, 9, 6, 2, 1, 12, 4, 4, 8, 13, 10, 5, 11, 13, 4, 12, 15, 4, 5, 10, 9, 9, 4, 6, 1, 6, 13, 8, 7, 7, 15, 3, 10, 10, 7, 15, 14, 3, 5, 9, 11, 10, 3, 12, 6, 6, 10, 15]\n",
            "[11, 13, 6, 2, 15, 14, 3, 2, 11, 8, 9, 15, 12, 9, 14, 11, 15, 14, 5, 5, 14, 8, 12, 1, 2, 3, 6, 8, 12, 10, 2, 6, 7, 13, 2, 12, 2, 2, 11, 4, 4, 1, 14, 7, 8, 3, 1, 8, 9, 11, 15, 7, 1, 13, 12, 5, 14, 6, 14, 9, 8, 12, 4, 13, 8, 10, 13, 5, 7, 1, 11, 11, 2, 7, 1, 3, 5, 9, 4, 13, 15, 7, 14, 3, 1, 3, 5, 10, 9, 6, 2, 1, 12, 4, 4, 8, 13, 10, 5, 11, 13, 4, 12, 15, 4, 5, 10, 9, 9, 4, 6, 1, 6, 13, 8, 7, 7, 15, 3, 10, 10, 7, 15, 14, 3, 5, 9, 11, 10, 3, 12, 6, 6, 10, 15]\n"
          ]
        }
      ]
    },
    {
      "cell_type": "code",
      "source": [
        "predictions=np.array(predictions)\n",
        "expected_outputs=np.array(expected_outputs)\n",
        "predictions"
      ],
      "metadata": {
        "colab": {
          "base_uri": "https://localhost:8080/"
        },
        "id": "bgHaWQ-LAMAW",
        "outputId": "fc83600b-b7cc-43fc-f1e2-8e2bc4ab9421"
      },
      "execution_count": 26,
      "outputs": [
        {
          "output_type": "execute_result",
          "data": {
            "text/plain": [
              "array([11, 13,  6,  2, 15, 14,  3,  2, 11,  8,  9, 15, 12,  9, 14, 11, 15,\n",
              "       14,  5,  5, 14,  8, 12,  1,  2,  3,  6,  8, 12, 10,  2,  6,  7, 13,\n",
              "        2, 12,  2,  2, 11,  4,  4,  1, 14,  7,  8,  3,  1,  8,  9, 11, 15,\n",
              "        7,  1, 13, 12,  5, 14,  6, 14,  9,  8, 12,  4, 13,  8, 10, 13,  5,\n",
              "        7,  1, 11, 11,  2,  7,  1,  3,  5,  9,  4, 13, 15,  7, 14,  3,  1,\n",
              "        3,  5, 10,  9,  6,  2,  1, 12,  4,  4,  8, 13, 10,  5, 11, 13,  4,\n",
              "       12, 15,  4,  5, 10,  9,  9,  4,  6,  1,  6, 13,  8,  7,  7, 15,  3,\n",
              "       10, 10,  7, 15, 14,  3,  5,  9, 11, 10,  3, 12,  6,  6, 10, 15])"
            ]
          },
          "metadata": {},
          "execution_count": 26
        }
      ]
    },
    {
      "cell_type": "code",
      "source": [
        "expected_outputs\n"
      ],
      "metadata": {
        "colab": {
          "base_uri": "https://localhost:8080/"
        },
        "id": "yOZaCJea0Qc5",
        "outputId": "a8f0a911-3cd1-4fd5-85ea-7e8132168d0f"
      },
      "execution_count": 27,
      "outputs": [
        {
          "output_type": "execute_result",
          "data": {
            "text/plain": [
              "array([11, 13,  6,  2, 15, 14,  3,  2, 11,  8,  9, 15, 12,  9, 14, 11, 15,\n",
              "       14,  5,  5, 14,  8, 12,  1,  2,  3,  6,  8, 12, 10,  2,  6,  7, 13,\n",
              "        2, 12,  2,  2, 11,  4,  4,  1, 14,  7,  8,  3,  1,  8,  9, 11, 15,\n",
              "        7,  1, 13, 12,  5, 14,  6, 14,  9,  8, 12,  4, 13,  8, 10, 13,  5,\n",
              "        7,  1, 11, 11,  2,  7,  1,  3,  5,  9,  4, 13, 15,  7, 14,  3,  1,\n",
              "        3,  5, 10,  9,  6,  2,  1, 12,  4,  4,  8, 13, 10,  5, 11, 13,  4,\n",
              "       12, 15,  4,  5, 10,  9,  9,  4,  6,  1,  6, 13,  8,  7,  7, 15,  3,\n",
              "       10, 10,  7, 15, 14,  3,  5,  9, 11, 10,  3, 12,  6,  6, 10, 15])"
            ]
          },
          "metadata": {},
          "execution_count": 27
        }
      ]
    },
    {
      "cell_type": "code",
      "source": [
        "from sklearn.metrics import accuracy_score\n",
        "\n",
        "arc=accuracy_score(expected_outputs, predictions)\n",
        "arc"
      ],
      "metadata": {
        "colab": {
          "base_uri": "https://localhost:8080/"
        },
        "id": "KvM_ZckqLb1h",
        "outputId": "dbc05190-5ea9-45e3-fbf0-c522b3ae2b5b"
      },
      "execution_count": 32,
      "outputs": [
        {
          "output_type": "execute_result",
          "data": {
            "text/plain": [
              "1.0"
            ]
          },
          "metadata": {},
          "execution_count": 32
        }
      ]
    }
  ]
}